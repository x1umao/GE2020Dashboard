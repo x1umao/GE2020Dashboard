{
 "metadata": {
  "language_info": {
   "codemirror_mode": {
    "name": "ipython",
    "version": 3
   },
   "file_extension": ".py",
   "mimetype": "text/x-python",
   "name": "python",
   "nbconvert_exporter": "python",
   "pygments_lexer": "ipython3",
   "version": "3.8.3-final"
  },
  "orig_nbformat": 2,
  "kernelspec": {
   "name": "Python 3.8.3 64-bit ('ProgramData': virtualenv)",
   "display_name": "Python 3.8.3 64-bit ('ProgramData': virtualenv)",
   "metadata": {
    "interpreter": {
     "hash": "b3ba2566441a7c06988d0923437866b63cedc61552a5af99d1f4fb67d367b25f"
    }
   }
  }
 },
 "nbformat": 4,
 "nbformat_minor": 2,
 "cells": [
  {
   "cell_type": "code",
   "execution_count": 97,
   "metadata": {},
   "outputs": [],
   "source": [
    "# your answer\n",
    "from urllib.request import urlopen\n",
    "from bs4 import BeautifulSoup\n",
    "from collections import Counter\n",
    "from tqdm import tqdm\n",
    "import requests # for web requests\n",
    "from bs4 import BeautifulSoup # a powerful HTML parser\n",
    "import pandas as pd # for .csv file read and write\n",
    "import re # for regular regression handling\n",
    "\n",
    "headers = {'User-Agent':'Mozilla/5.0 (Windows NT 10.0; Win64; x64) AppleWebKit/537.36 (KHTML, like Gecko) Chrome/66.0.3359.139 Safari/537.36'}\n",
    "BASE_URL = 'https://www.eld.gov.sg/'\n",
    "\n"
   ]
  },
  {
   "cell_type": "code",
   "execution_count": 98,
   "metadata": {},
   "outputs": [],
   "source": [
    "def get_links(base_url):\n",
    "    r = requests.get(base_url+'elections_past_parliamentary.html', headers=headers)\n",
    "    soup = BeautifulSoup(r.text,'lxml')\n",
    "    links = list()\n",
    "    for a in soup.find('table',attrs={'class':'tableStyle'}).find_all('a'):\n",
    "        links.append(a.get('href'))\n",
    "    return links"
   ]
  },
  {
   "cell_type": "code",
   "execution_count": 173,
   "metadata": {},
   "outputs": [
    {
     "output_type": "stream",
     "name": "stdout",
     "text": [
      "https://www.eld.gov.sg/finalresults2020.html\n",
      "https://www.eld.gov.sg/elections_past_parliamentary2015.html\n",
      "https://www.eld.gov.sg/elections_past_parliamentary2011.html\n",
      "https://www.eld.gov.sg/elections_past_parliamentary2006.html\n",
      "https://www.eld.gov.sg/elections_past_parliamentary2001.html\n",
      "https://www.eld.gov.sg/elections_past_parliamentary1997.html\n",
      "https://www.eld.gov.sg/elections_past_parliamentary1991.html\n",
      "https://www.eld.gov.sg/elections_past_parliamentary1988.html\n",
      "https://www.eld.gov.sg/elections_past_parliamentary1984.html\n",
      "https://www.eld.gov.sg/elections_past_parliamentary1980.html\n",
      "https://www.eld.gov.sg/elections_past_parliamentary1976.html\n",
      "https://www.eld.gov.sg/elections_past_parliamentary1972.html\n",
      "https://www.eld.gov.sg/elections_past_parliamentary1968.html\n",
      "https://www.eld.gov.sg/elections_past_parliamentary1963.html\n",
      "https://www.eld.gov.sg/elections_past_parliamentary1959.html\n",
      "https://www.eld.gov.sg/elections_past_parliamentary1955.html\n"
     ]
    }
   ],
   "source": [
    "electionData = dict()\n",
    "for link in links:\n",
    "    r = requests.get(BASE_URL+link, headers=headers)\n",
    "    soup = BeautifulSoup(r.text,'lxml')\n",
    "    print(BASE_URL+link)\n",
    "    pap_voters = 0\n",
    "    other_voters = 0\n",
    "    for table in soup.find_all('table'):\n",
    "        if len(re.findall(r'\\d+\\.?\\d*',table.find_all('td')[2].get_text())) > 0:\n",
    "            party1 = table.find_all('td')[1].get_text()\n",
    "            party_voter1 = int(''.join(re.findall(r'\\d+\\.?\\d*',table.find_all('td')[2].get_text())[:-1]))\n",
    "            party2 = table.find_all('td')[4].get_text()\n",
    "            party_voter2 = int(''.join(re.findall(r'\\d+\\.?\\d*',table.find_all('td')[5].get_text())[:-1]))\n",
    "            if party1.strip() == 'PAP':\n",
    "                pap_voters += party_voter1\n",
    "            else:\n",
    "                other_voters += party_voter1\n",
    "            if party2.strip() == 'PAP':\n",
    "                pap_voters += party_voter2\n",
    "            else:\n",
    "                other_voters += party_voter2\n",
    "    year = re.findall(r'\\d+',link)\n",
    "    electionData[int(year[0])] = [pap_voters,other_voters]"
   ]
  },
  {
   "cell_type": "code",
   "execution_count": 174,
   "metadata": {},
   "outputs": [
    {
     "output_type": "stream",
     "name": "stdout",
     "text": [
      "{2020: [1411966, 967046], 2015: [1541686, 681046], 2011: [1195160, 803482], 2006: [748130, 375143], 2001: [451644, 154502], 1997: [465751, 244003], 1991: [463271, 294477], 1988: [807460, 487593], 1984: [568310, 307731], 1980: [468616, 138384], 1976: [572818, 206403], 1972: [461333, 177973], 1968: [65812, 10082], 1963: [154178, 171246], 1959: [199731, 129312], 1955: [9288, 92969]}\n"
     ]
    }
   ],
   "source": [
    "print(electionData)"
   ]
  }
 ]
}